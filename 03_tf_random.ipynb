{
  "nbformat": 4,
  "nbformat_minor": 0,
  "metadata": {
    "colab": {
      "name": "03-tf-random.ipynb",
      "provenance": [],
      "collapsed_sections": [],
      "authorship_tag": "ABX9TyO7yC5YKqaFh+10N2Tl5X7g",
      "include_colab_link": true
    },
    "kernelspec": {
      "name": "python3",
      "display_name": "Python 3"
    }
  },
  "cells": [
    {
      "cell_type": "markdown",
      "metadata": {
        "id": "view-in-github",
        "colab_type": "text"
      },
      "source": [
        "<a href=\"https://colab.research.google.com/github/daks4012/2020-2-AI/blob/master/03_tf_random.ipynb\" target=\"_parent\"><img src=\"https://colab.research.google.com/assets/colab-badge.svg\" alt=\"Open In Colab\"/></a>"
      ]
    },
    {
      "cell_type": "code",
      "metadata": {
        "id": "5HgUA_ZMGGtJ",
        "outputId": "ec222f2f-90b3-47d8-949d-fc765d034309",
        "colab": {
          "base_uri": "https://localhost:8080/",
          "height": 35
        }
      },
      "source": [
        "import tensorflow as tf\n",
        "tf.__version__"
      ],
      "execution_count": null,
      "outputs": [
        {
          "output_type": "execute_result",
          "data": {
            "application/vnd.google.colaboratory.intrinsic+json": {
              "type": "string"
            },
            "text/plain": [
              "'2.3.0'"
            ]
          },
          "metadata": {
            "tags": []
          },
          "execution_count": 2
        }
      ]
    },
    {
      "cell_type": "code",
      "metadata": {
        "id": "mBnYnYu7FxT0",
        "outputId": "ccb1a5a0-64a2-4eec-cfe6-a8acc582a62f",
        "colab": {
          "base_uri": "https://localhost:8080/",
          "height": 35
        }
      },
      "source": [
        "rand = tf.random.uniform([1], 0.1)\n",
        "print(rand)"
      ],
      "execution_count": null,
      "outputs": [
        {
          "output_type": "stream",
          "text": [
            "tf.Tensor([0.9289428], shape=(1,), dtype=float32)\n"
          ],
          "name": "stdout"
        }
      ]
    },
    {
      "cell_type": "code",
      "metadata": {
        "id": "O3EmZmkrGKNI",
        "outputId": "a575d728-3ec9-4e70-dd00-73aa1b3c7454",
        "colab": {
          "base_uri": "https://localhost:8080/",
          "height": 126
        }
      },
      "source": [
        "rand = tf.random.uniform([5, 4], 0.1)\n",
        "print(rand)"
      ],
      "execution_count": null,
      "outputs": [
        {
          "output_type": "stream",
          "text": [
            "tf.Tensor(\n",
            "[[0.38109335 0.49802166 0.858041   0.8119543 ]\n",
            " [0.26623002 0.7038287  0.6676947  0.20529291]\n",
            " [0.8354305  0.27064094 0.702619   0.6001907 ]\n",
            " [0.38889557 0.8716276  0.98631334 0.7893055 ]\n",
            " [0.6383364  0.52875435 0.23499793 0.9000551 ]], shape=(5, 4), dtype=float32)\n"
          ],
          "name": "stdout"
        }
      ]
    },
    {
      "cell_type": "code",
      "metadata": {
        "id": "Xb8txPZEGS-Y",
        "outputId": "4e48957a-c833-4486-aff1-822a0263fc61",
        "colab": {
          "base_uri": "https://localhost:8080/",
          "height": 72
        }
      },
      "source": [
        "rand = tf.random.uniform([1000], 0, 10)\n",
        "print(rand[:10])"
      ],
      "execution_count": null,
      "outputs": [
        {
          "output_type": "stream",
          "text": [
            "tf.Tensor(\n",
            "[4.6113563 1.7642307 9.350887  0.3116393 7.8942404 1.0772145 3.0491424\n",
            " 5.9789743 8.391348  2.7001214], shape=(10,), dtype=float32)\n"
          ],
          "name": "stdout"
        }
      ]
    },
    {
      "cell_type": "code",
      "metadata": {
        "id": "T8kJonLzGbnC",
        "outputId": "cc121278-32b9-41bc-97ca-cfb89d0eeca5",
        "colab": {
          "base_uri": "https://localhost:8080/",
          "height": 374
        }
      },
      "source": [
        "import matplotlib.pyplot as plt\n",
        "rand = tf.random.uniform([10000],0,50)\n",
        "plt.hist(rand, bins = 10)"
      ],
      "execution_count": null,
      "outputs": [
        {
          "output_type": "execute_result",
          "data": {
            "text/plain": [
              "(array([ 991.,  993.,  986., 1006., 1012., 1056.,  981., 1006., 1008.,\n",
              "         961.]),\n",
              " array([3.62396240e-03, 5.00292063e+00, 1.00022173e+01, 1.50015135e+01,\n",
              "        2.00008106e+01, 2.50001068e+01, 2.99994030e+01, 3.49986992e+01,\n",
              "        3.99979973e+01, 4.49972916e+01, 4.99965897e+01], dtype=float32),\n",
              " <a list of 10 Patch objects>)"
            ]
          },
          "metadata": {
            "tags": []
          },
          "execution_count": 12
        },
        {
          "output_type": "display_data",
          "data": {
            "image/png": "[encoded data removed]",
            "text/plain": [
              "<Figure size 432x288 with 1 Axes>"
            ]
          },
          "metadata": {
            "tags": [],
            "needs_background": "light"
          }
        }
      ]
    },
    {
      "cell_type": "code",
      "metadata": {
        "id": "K_3ejKuTHIhq",
        "outputId": "69888248-a40e-436a-e38c-462b3b5a0b4b",
        "colab": {
          "base_uri": "https://localhost:8080/",
          "height": 35
        }
      },
      "source": [
        "rand = tf.random.normal([4], 0, 1)\n",
        "print(rand)"
      ],
      "execution_count": null,
      "outputs": [
        {
          "output_type": "stream",
          "text": [
            "tf.Tensor([ 0.5168446   1.0989138   1.406378   -0.22695279], shape=(4,), dtype=float32)\n"
          ],
          "name": "stdout"
        }
      ]
    },
    {
      "cell_type": "code",
      "metadata": {
        "id": "I-jf_DAJHPzg",
        "outputId": "c0b1767b-f917-4c16-dda1-d3eab28102f4",
        "colab": {
          "base_uri": "https://localhost:8080/",
          "height": 72
        }
      },
      "source": [
        "rand = tf. random.normal([2, 4], 0, 2)\n",
        "print(rand)"
      ],
      "execution_count": null,
      "outputs": [
        {
          "output_type": "stream",
          "text": [
            "tf.Tensor(\n",
            "[[ 0.00885854 -0.64251286 -1.9137563   1.8598938 ]\n",
            " [-1.3148447   1.7466612  -0.9479553   1.5685741 ]], shape=(2, 4), dtype=float32)\n"
          ],
          "name": "stdout"
        }
      ]
    },
    {
      "cell_type": "code",
      "metadata": {
        "id": "vqfgJ-A0HXc5",
        "outputId": "07e4bae5-4c8e-4ba0-cbf4-5fc2d5040d9c",
        "colab": {
          "base_uri": "https://localhost:8080/",
          "height": 355
        }
      },
      "source": [
        "import matplotlib.pyplot as plt\n",
        "rand = tf.random.normal([100], 0, 1)\n",
        "plt.hist(rand, bins = 10)"
      ],
      "execution_count": null,
      "outputs": [
        {
          "output_type": "execute_result",
          "data": {
            "text/plain": [
              "(array([ 3.,  5.,  6., 15., 25., 22., 16.,  3.,  4.,  1.]),\n",
              " array([-2.6110194 , -2.0517182 , -1.4924169 , -0.9331156 , -0.37381434,\n",
              "         0.18548691,  0.74478817,  1.3040894 ,  1.8633907 ,  2.4226918 ,\n",
              "         2.9819932 ], dtype=float32),\n",
              " <a list of 10 Patch objects>)"
            ]
          },
          "metadata": {
            "tags": []
          },
          "execution_count": 17
        },
        {
          "output_type": "display_data",
          "data": {
            "image/png": "[encoded data removed]",
            "text/plain": [
              "<Figure size 432x288 with 1 Axes>"
            ]
          },
          "metadata": {
            "tags": [],
            "needs_background": "light"
          }
        }
      ]
    },
    {
      "cell_type": "code",
      "metadata": {
        "id": "fBtbdClYHtpg",
        "outputId": "5d66a5dd-dbb7-4401-fcac-cadda049cfbf",
        "colab": {
          "base_uri": "https://localhost:8080/",
          "height": 901
        }
      },
      "source": [
        "import matplotlib.pyplot as plt\n",
        "rand1 = tf.random.normal([1000],0, 1)\n",
        "rand2 = tf.random.uniform([2000], 0, 1)\n",
        "plt.hist(rand1, bins = 100)\n",
        "plt.hist(rand2, bins = 100)"
      ],
      "execution_count": null,
      "outputs": [
        {
          "output_type": "execute_result",
          "data": {
            "text/plain": [
              "(array([26., 22., 21., 18., 17., 15., 18., 26., 26., 23., 17., 23., 21.,\n",
              "        19., 19., 15., 20., 22., 21., 14.,  8., 19., 18., 22., 23., 13.,\n",
              "        29., 17., 25., 18., 18., 22., 22., 17., 22., 20., 14., 14., 19.,\n",
              "        24., 12., 22., 27., 21., 20., 13., 20., 26., 21., 20., 17., 24.,\n",
              "        14., 26., 21., 24., 21., 27., 21., 25., 18., 17., 18., 19., 19.,\n",
              "        25., 18., 23., 20., 22., 30., 14., 27., 13., 25., 20., 19., 15.,\n",
              "        16., 20., 27., 16., 26., 18., 15., 21., 16., 24., 15., 24., 19.,\n",
              "        24., 20., 22., 23., 15., 12., 21., 16., 19.]),\n",
              " array([3.4570694e-06, 9.9915257e-03, 1.9979594e-02, 2.9967662e-02,\n",
              "        3.9955731e-02, 4.9943797e-02, 5.9931867e-02, 6.9919936e-02,\n",
              "        7.9908006e-02, 8.9896075e-02, 9.9884138e-02, 1.0987221e-01,\n",
              "        1.1986028e-01, 1.2984835e-01, 1.3983642e-01, 1.4982449e-01,\n",
              "        1.5981255e-01, 1.6980062e-01, 1.7978869e-01, 1.8977675e-01,\n",
              "        1.9976482e-01, 2.0975289e-01, 2.1974096e-01, 2.2972903e-01,\n",
              "        2.3971710e-01, 2.4970517e-01, 2.5969324e-01, 2.6968130e-01,\n",
              "        2.7966937e-01, 2.8965744e-01, 2.9964551e-01, 3.0963358e-01,\n",
              "        3.1962165e-01, 3.2960972e-01, 3.3959779e-01, 3.4958586e-01,\n",
              "        3.5957393e-01, 3.6956200e-01, 3.7955004e-01, 3.8953811e-01,\n",
              "        3.9952618e-01, 4.0951425e-01, 4.1950232e-01, 4.2949039e-01,\n",
              "        4.3947846e-01, 4.4946653e-01, 4.5945460e-01, 4.6944267e-01,\n",
              "        4.7943074e-01, 4.8941880e-01, 4.9940687e-01, 5.0939494e-01,\n",
              "        5.1938301e-01, 5.2937108e-01, 5.3935915e-01, 5.4934722e-01,\n",
              "        5.5933529e-01, 5.6932336e-01, 5.7931143e-01, 5.8929950e-01,\n",
              "        5.9928757e-01, 6.0927564e-01, 6.1926371e-01, 6.2925178e-01,\n",
              "        6.3923985e-01, 6.4922792e-01, 6.5921599e-01, 6.6920406e-01,\n",
              "        6.7919213e-01, 6.8918020e-01, 6.9916826e-01, 7.0915633e-01,\n",
              "        7.1914440e-01, 7.2913247e-01, 7.3912054e-01, 7.4910855e-01,\n",
              "        7.5909662e-01, 7.6908469e-01, 7.7907276e-01, 7.8906083e-01,\n",
              "        7.9904890e-01, 8.0903697e-01, 8.1902504e-01, 8.2901311e-01,\n",
              "        8.3900118e-01, 8.4898925e-01, 8.5897732e-01, 8.6896539e-01,\n",
              "        8.7895346e-01, 8.8894153e-01, 8.9892960e-01, 9.0891767e-01,\n",
              "        9.1890574e-01, 9.2889380e-01, 9.3888187e-01, 9.4886994e-01,\n",
              "        9.5885801e-01, 9.6884608e-01, 9.7883415e-01, 9.8882222e-01,\n",
              "        9.9881029e-01], dtype=float32),\n",
              " <a list of 100 Patch objects>)"
            ]
          },
          "metadata": {
            "tags": []
          },
          "execution_count": 18
        },
        {
          "output_type": "display_data",
          "data": {
            "image/png": "[encoded data removed]",
            "text/plain": [
              "<Figure size 432x288 with 1 Axes>"
            ]
          },
          "metadata": {
            "tags": [],
            "needs_background": "light"
          }
        }
      ]
    },
    {
      "cell_type": "code",
      "metadata": {
        "id": "MCkCUzLAIDRt",
        "outputId": "ac06fc0e-5c70-4c98-bf82-c971f948a89a",
        "colab": {
          "base_uri": "https://localhost:8080/",
          "height": 988
        }
      },
      "source": [
        "import matplotlib.pyplot as plt\n",
        "rand1 = tf.random.normal([1000],0, 1)\n",
        "rand2 = tf.random.uniform([2000],0,1)\n",
        "\n",
        "plt.rcParams[\"figure.figsize\"] = (12, 6)\n",
        "fig, axes = plt.subplots(1, 2, sharex = True, sharey=True)\n",
        "axes[0].hist(rand1, bins=100)\n",
        "axes[1].hist(rand2, bins=100)"
      ],
      "execution_count": null,
      "outputs": [
        {
          "output_type": "execute_result",
          "data": {
            "text/plain": [
              "(array([13., 16., 19., 27., 10., 26., 27., 23., 17., 24., 19., 26., 13.,\n",
              "        17., 29., 24., 25., 22., 14., 16., 21., 17., 15., 24., 21., 12.,\n",
              "        24., 15., 18., 29., 23., 28., 16., 22., 18., 19., 25., 23., 16.,\n",
              "        27., 19., 27., 15., 25., 13., 22., 22., 19., 18., 16., 14., 20.,\n",
              "        35., 13., 20., 22., 21., 20., 21., 19., 23., 15., 13., 18., 20.,\n",
              "        37., 19., 19., 23., 18., 12., 16., 17., 23., 20., 20., 21., 23.,\n",
              "        21., 21., 24., 19., 25., 15., 19., 17., 17., 18., 20., 16., 13.,\n",
              "        19., 18., 13., 16., 27., 27., 18., 19., 20.]),\n",
              " array([1.7189980e-04, 1.0168004e-02, 2.0164108e-02, 3.0160213e-02,\n",
              "        4.0156316e-02, 5.0152421e-02, 6.0148526e-02, 7.0144631e-02,\n",
              "        8.0140732e-02, 9.0136841e-02, 1.0013294e-01, 1.1012904e-01,\n",
              "        1.2012515e-01, 1.3012126e-01, 1.4011736e-01, 1.5011346e-01,\n",
              "        1.6010956e-01, 1.7010567e-01, 1.8010178e-01, 1.9009788e-01,\n",
              "        2.0009398e-01, 2.1009009e-01, 2.2008619e-01, 2.3008230e-01,\n",
              "        2.4007840e-01, 2.5007451e-01, 2.6007062e-01, 2.7006671e-01,\n",
              "        2.8006282e-01, 2.9005891e-01, 3.0005503e-01, 3.1005114e-01,\n",
              "        3.2004723e-01, 3.3004335e-01, 3.4003943e-01, 3.5003555e-01,\n",
              "        3.6003166e-01, 3.7002775e-01, 3.8002387e-01, 3.9001995e-01,\n",
              "        4.0001607e-01, 4.1001219e-01, 4.2000827e-01, 4.3000439e-01,\n",
              "        4.4000047e-01, 4.4999659e-01, 4.5999271e-01, 4.6998879e-01,\n",
              "        4.7998491e-01, 4.8998100e-01, 4.9997711e-01, 5.0997323e-01,\n",
              "        5.1996934e-01, 5.2996540e-01, 5.3996152e-01, 5.4995763e-01,\n",
              "        5.5995375e-01, 5.6994987e-01, 5.7994592e-01, 5.8994204e-01,\n",
              "        5.9993815e-01, 6.0993427e-01, 6.1993039e-01, 6.2992644e-01,\n",
              "        6.3992256e-01, 6.4991868e-01, 6.5991479e-01, 6.6991091e-01,\n",
              "        6.7990696e-01, 6.8990308e-01, 6.9989920e-01, 7.0989531e-01,\n",
              "        7.1989143e-01, 7.2988749e-01, 7.3988360e-01, 7.4987972e-01,\n",
              "        7.5987583e-01, 7.6987195e-01, 7.7986801e-01, 7.8986412e-01,\n",
              "        7.9986024e-01, 8.0985636e-01, 8.1985247e-01, 8.2984853e-01,\n",
              "        8.3984464e-01, 8.4984076e-01, 8.5983688e-01, 8.6983299e-01,\n",
              "        8.7982905e-01, 8.8982517e-01, 8.9982128e-01, 9.0981740e-01,\n",
              "        9.1981351e-01, 9.2980957e-01, 9.3980569e-01, 9.4980180e-01,\n",
              "        9.5979792e-01, 9.6979403e-01, 9.7979009e-01, 9.8978621e-01,\n",
              "        9.9978232e-01], dtype=float32),\n",
              " <a list of 100 Patch objects>)"
            ]
          },
          "metadata": {
            "tags": []
          },
          "execution_count": 19
        },
        {
          "output_type": "display_data",
          "data": {
            "image/png": "[encoded data removed]",
            "text/plain": [
              "<Figure size 864x432 with 2 Axes>"
            ]
          },
          "metadata": {
            "tags": [],
            "needs_background": "light"
          }
        }
      ]
    },
    {
      "cell_type": "code",
      "metadata": {
        "id": "1bVKjvJhIyLq",
        "outputId": "bc012e72-ce4e-43a4-80e8-5a3939e84adb",
        "colab": {
          "base_uri": "https://localhost:8080/",
          "height": 54
        }
      },
      "source": [
        "import numpy as np\n",
        "a = np.arange(10)\n",
        "print(a)\n",
        "tf.random.shuffle(a)"
      ],
      "execution_count": null,
      "outputs": [
        {
          "output_type": "stream",
          "text": [
            "[0 1 2 3 4 5 6 7 8 9]\n"
          ],
          "name": "stdout"
        },
        {
          "output_type": "execute_result",
          "data": {
            "text/plain": [
              "<tf.Tensor: shape=(10,), dtype=int64, numpy=array([2, 0, 4, 1, 3, 8, 6, 7, 9, 5])>"
            ]
          },
          "metadata": {
            "tags": []
          },
          "execution_count": 20
        }
      ]
    },
    {
      "cell_type": "code",
      "metadata": {
        "id": "0NCu7sXpJGyB",
        "outputId": "7cf583cf-d252-4b8f-c3c0-2c1e4d567641",
        "colab": {
          "base_uri": "https://localhost:8080/",
          "height": 90
        }
      },
      "source": [
        "import numpy as np\n",
        "a = np.arange(20).reshape(4, 5)\n",
        "a"
      ],
      "execution_count": null,
      "outputs": [
        {
          "output_type": "execute_result",
          "data": {
            "text/plain": [
              "array([[ 0,  1,  2,  3,  4],\n",
              "       [ 5,  6,  7,  8,  9],\n",
              "       [10, 11, 12, 13, 14],\n",
              "       [15, 16, 17, 18, 19]])"
            ]
          },
          "metadata": {
            "tags": []
          },
          "execution_count": 22
        }
      ]
    },
    {
      "cell_type": "code",
      "metadata": {
        "id": "gan-saQVJWcw",
        "outputId": "2cc5ee15-7f84-4a9e-a437-a3d8c70ea0b9",
        "colab": {
          "base_uri": "https://localhost:8080/",
          "height": 108
        }
      },
      "source": [
        "tf.random.shuffle(a)"
      ],
      "execution_count": null,
      "outputs": [
        {
          "output_type": "execute_result",
          "data": {
            "text/plain": [
              "<tf.Tensor: shape=(4, 5), dtype=int64, numpy=\n",
              "array([[ 0,  1,  2,  3,  4],\n",
              "       [15, 16, 17, 18, 19],\n",
              "       [ 5,  6,  7,  8,  9],\n",
              "       [10, 11, 12, 13, 14]])>"
            ]
          },
          "metadata": {
            "tags": []
          },
          "execution_count": 23
        }
      ]
    }
  ]
}